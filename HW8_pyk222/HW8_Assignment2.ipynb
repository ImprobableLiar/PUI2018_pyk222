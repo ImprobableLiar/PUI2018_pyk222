{
 "cells": [
  {
   "cell_type": "code",
   "execution_count": 23,
   "metadata": {},
   "outputs": [
    {
     "name": "stdout",
     "output_type": "stream",
     "text": [
      "Populating the interactive namespace from numpy and matplotlib\n"
     ]
    }
   ],
   "source": [
    "from __future__  import print_function, division\n",
    "from matplotlib import pyplot\n",
    "import pylab as pl\n",
    "import pandas as pd\n",
    "import numpy as np\n",
    "import os\n",
    "import scipy.stats\n",
    "from scipy import stats\n",
    "\n",
    "%pylab inline\n",
    "\n",
    "import os\n",
    "import json"
   ]
  },
  {
   "cell_type": "code",
   "execution_count": 2,
   "metadata": {},
   "outputs": [],
   "source": [
    "def getCitiBikeCSV(datestring):\n",
    "    print (\"Downloading\", datestring)\n",
    "    if not os.path.isfile(os.getenv(\"PUIDATA\") + \"/\" + datestring + \"-citibike-tripdata.csv\"):\n",
    "        if os.path.isfile(datestring + \"-citibike-tripdata.csv\"):\n",
    "            if os.system(\"mv \" + datestring + \"-citibike-tripdata.csv \" + os.getenv(\"PUIDATA\")):\n",
    "                print (\"Error moving file!, Please check!\")\n",
    "        else:\n",
    "            if not os.path.isfile(os.getenv(\"PUIDATA\") + \"/\" + datestring + \"-citibike-tripdata.zip\"):\n",
    "                if not os.path.isfile(datestring + \"-citibike-tripdata.zip\"):\n",
    "                    os.system(\"curl -O https://s3.amazonaws.com/tripdata/\" + datestring + \"-citibike-tripdata.zip\")\n",
    "                os.system(\"mv \" + datestring + \"-citibike-tripdata.zip \" + os.getenv(\"PUIDATA\")) \n",
    "            os.system(\"unzip \" + os.getenv(\"PUIDATA\") + \"/\" + datestring + \"-citibike-tripdata.zip\")\n",
    "            if '2014' in datestring:\n",
    "                os.system(\"mv \" + datestring[:4] + '-' +  datestring[4:] + \n",
    "                          \"\\ -\\ Citi\\ Bike\\ trip\\ data.csv \" + datestring + \"-citibike-tripdata.csv\")\n",
    "            os.system(\"mv \" + datestring + \"-citibike-tripdata.csv \" + os.getenv(\"PUIDATA\"))\n",
    "    if not os.path.isfile(os.getenv(\"PUIDATA\") + \"/\" + datestring + \"-citibike-tripdata.csv\"):\n",
    "        print (\"WARNING!!! something is wrong: the file is not there!\")\n",
    "\n",
    "    else:\n",
    "        print (\"file in place, you can continue\")"
   ]
  },
  {
   "cell_type": "code",
   "execution_count": 3,
   "metadata": {},
   "outputs": [
    {
     "name": "stdout",
     "output_type": "stream",
     "text": [
      "PUIdata /nfshome/pyk222/PUIdata\n"
     ]
    }
   ],
   "source": [
    "print(\"PUIdata\", os.getenv(\"PUIDATA\"))"
   ]
  },
  {
   "cell_type": "code",
   "execution_count": 4,
   "metadata": {},
   "outputs": [
    {
     "name": "stdout",
     "output_type": "stream",
     "text": [
      "Downloading 201306\n",
      "file in place, you can continue\n"
     ]
    }
   ],
   "source": [
    "datestring = '201306'\n",
    "getCitiBikeCSV(datestring)"
   ]
  },
  {
   "cell_type": "code",
   "execution_count": 5,
   "metadata": {},
   "outputs": [
    {
     "data": {
      "text/html": [
       "<div>\n",
       "<table border=\"1\" class=\"dataframe\">\n",
       "  <thead>\n",
       "    <tr style=\"text-align: right;\">\n",
       "      <th></th>\n",
       "      <th>tripduration</th>\n",
       "      <th>starttime</th>\n",
       "      <th>stoptime</th>\n",
       "      <th>start station id</th>\n",
       "      <th>start station name</th>\n",
       "      <th>start station latitude</th>\n",
       "      <th>start station longitude</th>\n",
       "      <th>end station id</th>\n",
       "      <th>end station name</th>\n",
       "      <th>end station latitude</th>\n",
       "      <th>end station longitude</th>\n",
       "      <th>bikeid</th>\n",
       "      <th>usertype</th>\n",
       "      <th>birth year</th>\n",
       "      <th>gender</th>\n",
       "      <th>date</th>\n",
       "    </tr>\n",
       "  </thead>\n",
       "  <tbody>\n",
       "    <tr>\n",
       "      <th>0</th>\n",
       "      <td>695</td>\n",
       "      <td>2013-06-01 00:00:01</td>\n",
       "      <td>2013-06-01 00:11:36</td>\n",
       "      <td>444</td>\n",
       "      <td>Broadway &amp; W 24 St</td>\n",
       "      <td>40.742354</td>\n",
       "      <td>-73.989151</td>\n",
       "      <td>434.0</td>\n",
       "      <td>9 Ave &amp; W 18 St</td>\n",
       "      <td>40.743174</td>\n",
       "      <td>-74.003664</td>\n",
       "      <td>19678</td>\n",
       "      <td>Subscriber</td>\n",
       "      <td>1983.0</td>\n",
       "      <td>1</td>\n",
       "      <td>2013-06-01 00:00:01</td>\n",
       "    </tr>\n",
       "    <tr>\n",
       "      <th>1</th>\n",
       "      <td>693</td>\n",
       "      <td>2013-06-01 00:00:08</td>\n",
       "      <td>2013-06-01 00:11:41</td>\n",
       "      <td>444</td>\n",
       "      <td>Broadway &amp; W 24 St</td>\n",
       "      <td>40.742354</td>\n",
       "      <td>-73.989151</td>\n",
       "      <td>434.0</td>\n",
       "      <td>9 Ave &amp; W 18 St</td>\n",
       "      <td>40.743174</td>\n",
       "      <td>-74.003664</td>\n",
       "      <td>16649</td>\n",
       "      <td>Subscriber</td>\n",
       "      <td>1984.0</td>\n",
       "      <td>1</td>\n",
       "      <td>2013-06-01 00:00:08</td>\n",
       "    </tr>\n",
       "    <tr>\n",
       "      <th>2</th>\n",
       "      <td>2059</td>\n",
       "      <td>2013-06-01 00:00:44</td>\n",
       "      <td>2013-06-01 00:35:03</td>\n",
       "      <td>406</td>\n",
       "      <td>Hicks St &amp; Montague St</td>\n",
       "      <td>40.695128</td>\n",
       "      <td>-73.995951</td>\n",
       "      <td>406.0</td>\n",
       "      <td>Hicks St &amp; Montague St</td>\n",
       "      <td>40.695128</td>\n",
       "      <td>-73.995951</td>\n",
       "      <td>19599</td>\n",
       "      <td>Customer</td>\n",
       "      <td>NaN</td>\n",
       "      <td>0</td>\n",
       "      <td>2013-06-01 00:00:44</td>\n",
       "    </tr>\n",
       "    <tr>\n",
       "      <th>3</th>\n",
       "      <td>123</td>\n",
       "      <td>2013-06-01 00:01:04</td>\n",
       "      <td>2013-06-01 00:03:07</td>\n",
       "      <td>475</td>\n",
       "      <td>E 15 St &amp; Irving Pl</td>\n",
       "      <td>40.735243</td>\n",
       "      <td>-73.987586</td>\n",
       "      <td>262.0</td>\n",
       "      <td>Washington Park</td>\n",
       "      <td>40.691782</td>\n",
       "      <td>-73.973730</td>\n",
       "      <td>16352</td>\n",
       "      <td>Subscriber</td>\n",
       "      <td>1960.0</td>\n",
       "      <td>1</td>\n",
       "      <td>2013-06-01 00:01:04</td>\n",
       "    </tr>\n",
       "    <tr>\n",
       "      <th>4</th>\n",
       "      <td>1521</td>\n",
       "      <td>2013-06-01 00:01:22</td>\n",
       "      <td>2013-06-01 00:26:43</td>\n",
       "      <td>2008</td>\n",
       "      <td>Little West St &amp; 1 Pl</td>\n",
       "      <td>40.705693</td>\n",
       "      <td>-74.016777</td>\n",
       "      <td>310.0</td>\n",
       "      <td>State St &amp; Smith St</td>\n",
       "      <td>40.689269</td>\n",
       "      <td>-73.989129</td>\n",
       "      <td>15567</td>\n",
       "      <td>Subscriber</td>\n",
       "      <td>1983.0</td>\n",
       "      <td>1</td>\n",
       "      <td>2013-06-01 00:01:22</td>\n",
       "    </tr>\n",
       "  </tbody>\n",
       "</table>\n",
       "</div>"
      ],
      "text/plain": [
       "   tripduration            starttime             stoptime  start station id  \\\n",
       "0           695  2013-06-01 00:00:01  2013-06-01 00:11:36               444   \n",
       "1           693  2013-06-01 00:00:08  2013-06-01 00:11:41               444   \n",
       "2          2059  2013-06-01 00:00:44  2013-06-01 00:35:03               406   \n",
       "3           123  2013-06-01 00:01:04  2013-06-01 00:03:07               475   \n",
       "4          1521  2013-06-01 00:01:22  2013-06-01 00:26:43              2008   \n",
       "\n",
       "       start station name  start station latitude  start station longitude  \\\n",
       "0      Broadway & W 24 St               40.742354               -73.989151   \n",
       "1      Broadway & W 24 St               40.742354               -73.989151   \n",
       "2  Hicks St & Montague St               40.695128               -73.995951   \n",
       "3     E 15 St & Irving Pl               40.735243               -73.987586   \n",
       "4   Little West St & 1 Pl               40.705693               -74.016777   \n",
       "\n",
       "   end station id        end station name  end station latitude  \\\n",
       "0           434.0         9 Ave & W 18 St             40.743174   \n",
       "1           434.0         9 Ave & W 18 St             40.743174   \n",
       "2           406.0  Hicks St & Montague St             40.695128   \n",
       "3           262.0         Washington Park             40.691782   \n",
       "4           310.0     State St & Smith St             40.689269   \n",
       "\n",
       "   end station longitude  bikeid    usertype  birth year  gender  \\\n",
       "0             -74.003664   19678  Subscriber      1983.0       1   \n",
       "1             -74.003664   16649  Subscriber      1984.0       1   \n",
       "2             -73.995951   19599    Customer         NaN       0   \n",
       "3             -73.973730   16352  Subscriber      1960.0       1   \n",
       "4             -73.989129   15567  Subscriber      1983.0       1   \n",
       "\n",
       "                 date  \n",
       "0 2013-06-01 00:00:01  \n",
       "1 2013-06-01 00:00:08  \n",
       "2 2013-06-01 00:00:44  \n",
       "3 2013-06-01 00:01:04  \n",
       "4 2013-06-01 00:01:22  "
      ]
     },
     "execution_count": 5,
     "metadata": {},
     "output_type": "execute_result"
    }
   ],
   "source": [
    "df = pd.read_csv(os.getenv(\"PUIDATA\") + \"/\" + datestring + '-citibike-tripdata.csv')\n",
    "df['date'] = pd.to_datetime(df['starttime'])\n",
    "df.head()"
   ]
  },
  {
   "cell_type": "code",
   "execution_count": 6,
   "metadata": {},
   "outputs": [
    {
     "data": {
      "text/plain": [
       "Index(['tripduration', 'starttime', 'stoptime', 'start station id',\n",
       "       'start station name', 'start station latitude',\n",
       "       'start station longitude', 'end station id', 'end station name',\n",
       "       'end station latitude', 'end station longitude', 'bikeid', 'usertype',\n",
       "       'birth year', 'gender', 'date'],\n",
       "      dtype='object')"
      ]
     },
     "execution_count": 6,
     "metadata": {},
     "output_type": "execute_result"
    }
   ],
   "source": [
    "df.columns"
   ]
  },
  {
   "cell_type": "markdown",
   "metadata": {},
   "source": [
    "Idea:\n",
    "In June 2013, the person's trip duration is longer for a subscriber than a customer. (Trip duration is in seconds)\n",
    "\n",
    "Null Hypothesis:\n",
    "The average of all subscriber's trip duration is about the same as the average customer's trip duration\n",
    "\n",
    "${\\mu_{\\mathrm{{W\\:tripduration}}}} = {\\mu_{\\mathrm{M\\:tripduration}}}$\n",
    "\n",
    "Alternative Hypothesis:\n",
    "The average of all subscriber's trip duration is longer than the average customer's trip duration\n",
    "\n",
    "${\\mu_{\\mathrm{{W\\:tripduration}}}} \\neq {\\mu_{\\mathrm{M\\:tripduration}}}$\n",
    "\n",
    "testing with significance level\n",
    "\n",
    "$\\alpha$ = 0.05"
   ]
  },
  {
   "cell_type": "code",
   "execution_count": 7,
   "metadata": {},
   "outputs": [],
   "source": [
    "\n",
    "df.drop(['starttime', 'stoptime', 'start station id',\n",
    "       'start station name', 'start station latitude',\n",
    "       'start station longitude', 'end station id', 'end station name',\n",
    "       'end station latitude', 'end station longitude', 'bikeid', 'birth year',\n",
    "       'gender', 'date'], axis=1, inplace=True)"
   ]
  },
  {
   "cell_type": "code",
   "execution_count": 8,
   "metadata": {},
   "outputs": [
    {
     "data": {
      "text/html": [
       "<div>\n",
       "<table border=\"1\" class=\"dataframe\">\n",
       "  <thead>\n",
       "    <tr style=\"text-align: right;\">\n",
       "      <th></th>\n",
       "      <th>tripduration</th>\n",
       "      <th>usertype</th>\n",
       "    </tr>\n",
       "  </thead>\n",
       "  <tbody>\n",
       "    <tr>\n",
       "      <th>0</th>\n",
       "      <td>695</td>\n",
       "      <td>Subscriber</td>\n",
       "    </tr>\n",
       "    <tr>\n",
       "      <th>1</th>\n",
       "      <td>693</td>\n",
       "      <td>Subscriber</td>\n",
       "    </tr>\n",
       "    <tr>\n",
       "      <th>2</th>\n",
       "      <td>2059</td>\n",
       "      <td>Customer</td>\n",
       "    </tr>\n",
       "    <tr>\n",
       "      <th>3</th>\n",
       "      <td>123</td>\n",
       "      <td>Subscriber</td>\n",
       "    </tr>\n",
       "    <tr>\n",
       "      <th>4</th>\n",
       "      <td>1521</td>\n",
       "      <td>Subscriber</td>\n",
       "    </tr>\n",
       "  </tbody>\n",
       "</table>\n",
       "</div>"
      ],
      "text/plain": [
       "   tripduration    usertype\n",
       "0           695  Subscriber\n",
       "1           693  Subscriber\n",
       "2          2059    Customer\n",
       "3           123  Subscriber\n",
       "4          1521  Subscriber"
      ]
     },
     "execution_count": 8,
     "metadata": {},
     "output_type": "execute_result"
    }
   ],
   "source": [
    "df.head()"
   ]
  },
  {
   "cell_type": "code",
   "execution_count": 9,
   "metadata": {},
   "outputs": [
    {
     "name": "stdout",
     "output_type": "stream",
     "text": [
      "0         Subscriber\n",
      "1         Subscriber\n",
      "2           Customer\n",
      "3         Subscriber\n",
      "4         Subscriber\n",
      "5           Customer\n",
      "6         Subscriber\n",
      "7         Subscriber\n",
      "8         Subscriber\n",
      "9         Subscriber\n",
      "10        Subscriber\n",
      "11          Customer\n",
      "12        Subscriber\n",
      "13          Customer\n",
      "14        Subscriber\n",
      "15        Subscriber\n",
      "16        Subscriber\n",
      "17          Customer\n",
      "18          Customer\n",
      "19          Customer\n",
      "20        Subscriber\n",
      "21        Subscriber\n",
      "22        Subscriber\n",
      "23        Subscriber\n",
      "24        Subscriber\n",
      "25        Subscriber\n",
      "26        Subscriber\n",
      "27          Customer\n",
      "28        Subscriber\n",
      "29        Subscriber\n",
      "             ...    \n",
      "577673      Customer\n",
      "577674    Subscriber\n",
      "577675      Customer\n",
      "577676      Customer\n",
      "577677      Customer\n",
      "577678      Customer\n",
      "577679    Subscriber\n",
      "577680    Subscriber\n",
      "577681    Subscriber\n",
      "577682    Subscriber\n",
      "577683    Subscriber\n",
      "577684      Customer\n",
      "577685      Customer\n",
      "577686      Customer\n",
      "577687    Subscriber\n",
      "577688      Customer\n",
      "577689    Subscriber\n",
      "577690    Subscriber\n",
      "577691      Customer\n",
      "577692      Customer\n",
      "577693      Customer\n",
      "577694      Customer\n",
      "577695      Customer\n",
      "577696      Customer\n",
      "577697      Customer\n",
      "577698    Subscriber\n",
      "577699      Customer\n",
      "577700    Subscriber\n",
      "577701      Customer\n",
      "577702      Customer\n",
      "Name: usertype, dtype: object\n"
     ]
    }
   ],
   "source": [
    "print(df['usertype'])"
   ]
  },
  {
   "cell_type": "code",
   "execution_count": 10,
   "metadata": {},
   "outputs": [
    {
     "data": {
      "text/plain": [
       "Text(0.5,1,'trip duration classified by customer or subscriber')"
      ]
     },
     "execution_count": 10,
     "metadata": {},
     "output_type": "execute_result"
    },
    {
     "data": {
      "image/png": "[encoded data removed]",
      "text/plain": [
       "<matplotlib.figure.Figure at 0x7fa5130dfa58>"
      ]
     },
     "metadata": {},
     "output_type": "display_data"
    }
   ],
   "source": [
    "barhg = (df['tripduration'].groupby(df['usertype']).count()).plot(kind='barh')\n",
    "barhg.set_xlabel('Customer or Subscriber')\n",
    "barhg.set_ylabel('trip duration in seconds')\n",
    "barhg.set_title('trip duration classified by customer or subscriber')"
   ]
  },
  {
   "cell_type": "markdown",
   "metadata": {},
   "source": [
    "Figure 1: trip duration classified by whether the rider is a customer or subscriber. The subscriber's trip durations seems to be about 100,000 seconds more than the customer's. However, we need to continue on with the statistical analysis to confirm if we should reject the null hypothesis."
   ]
  },
  {
   "cell_type": "code",
   "execution_count": 11,
   "metadata": {},
   "outputs": [
    {
     "data": {
      "text/plain": [
       "tripduration    337384\n",
       "usertype        337384\n",
       "dtype: int64"
      ]
     },
     "execution_count": 11,
     "metadata": {},
     "output_type": "execute_result"
    }
   ],
   "source": [
    "df[ df['usertype'] == 'Subscriber'].count()"
   ]
  },
  {
   "cell_type": "code",
   "execution_count": 12,
   "metadata": {},
   "outputs": [
    {
     "data": {
      "text/plain": [
       "tripduration    240319\n",
       "usertype        240319\n",
       "dtype: int64"
      ]
     },
     "execution_count": 12,
     "metadata": {},
     "output_type": "execute_result"
    }
   ],
   "source": [
    "df[df['usertype'] == 'Customer'].count()"
   ]
  },
  {
   "cell_type": "code",
   "execution_count": 13,
   "metadata": {},
   "outputs": [
    {
     "data": {
      "text/plain": [
       "tripduration    1.403901\n",
       "usertype        1.403901\n",
       "dtype: float64"
      ]
     },
     "execution_count": 13,
     "metadata": {},
     "output_type": "execute_result"
    }
   ],
   "source": [
    "df[ df['usertype'] == 'Subscriber'].count() / df[df['usertype'] == 'Customer'].count()"
   ]
  },
  {
   "cell_type": "markdown",
   "metadata": {},
   "source": [
    "We might want to add more variables. How about 'birth year'?"
   ]
  },
  {
   "cell_type": "code",
   "execution_count": 14,
   "metadata": {},
   "outputs": [
    {
     "data": {
      "text/html": [
       "<div>\n",
       "<table border=\"1\" class=\"dataframe\">\n",
       "  <thead>\n",
       "    <tr style=\"text-align: right;\">\n",
       "      <th></th>\n",
       "      <th>tripduration</th>\n",
       "      <th>usertype</th>\n",
       "      <th>birth year</th>\n",
       "    </tr>\n",
       "  </thead>\n",
       "  <tbody>\n",
       "    <tr>\n",
       "      <th>0</th>\n",
       "      <td>695</td>\n",
       "      <td>Subscriber</td>\n",
       "      <td>1983.0</td>\n",
       "    </tr>\n",
       "    <tr>\n",
       "      <th>1</th>\n",
       "      <td>693</td>\n",
       "      <td>Subscriber</td>\n",
       "      <td>1984.0</td>\n",
       "    </tr>\n",
       "    <tr>\n",
       "      <th>2</th>\n",
       "      <td>2059</td>\n",
       "      <td>Customer</td>\n",
       "      <td>NaN</td>\n",
       "    </tr>\n",
       "    <tr>\n",
       "      <th>3</th>\n",
       "      <td>123</td>\n",
       "      <td>Subscriber</td>\n",
       "      <td>1960.0</td>\n",
       "    </tr>\n",
       "    <tr>\n",
       "      <th>4</th>\n",
       "      <td>1521</td>\n",
       "      <td>Subscriber</td>\n",
       "      <td>1983.0</td>\n",
       "    </tr>\n",
       "  </tbody>\n",
       "</table>\n",
       "</div>"
      ],
      "text/plain": [
       "   tripduration    usertype  birth year\n",
       "0           695  Subscriber      1983.0\n",
       "1           693  Subscriber      1984.0\n",
       "2          2059    Customer         NaN\n",
       "3           123  Subscriber      1960.0\n",
       "4          1521  Subscriber      1983.0"
      ]
     },
     "execution_count": 14,
     "metadata": {},
     "output_type": "execute_result"
    }
   ],
   "source": [
    "dfyear = pd.read_csv(os.getenv(\"PUIDATA\") + \"/\" + datestring + '-citibike-tripdata.csv')\n",
    "dfyear['date'] = pd.to_datetime(dfyear['starttime'])\n",
    "dfyear.drop(['starttime', 'stoptime', 'start station id',\n",
    "       'start station name', 'start station latitude',\n",
    "       'start station longitude', 'end station id', 'end station name',\n",
    "       'end station latitude', 'end station longitude', 'bikeid',\n",
    "       'gender', 'date'], axis=1, inplace=True)\n",
    "dfyear.head()"
   ]
  },
  {
   "cell_type": "code",
   "execution_count": 15,
   "metadata": {},
   "outputs": [
    {
     "data": {
      "text/plain": [
       "tripduration    337384\n",
       "usertype        337384\n",
       "birth year      337382\n",
       "dtype: int64"
      ]
     },
     "execution_count": 15,
     "metadata": {},
     "output_type": "execute_result"
    }
   ],
   "source": [
    "dfyear[ dfyear['usertype'] == 'Subscriber'].count()"
   ]
  },
  {
   "cell_type": "code",
   "execution_count": 16,
   "metadata": {},
   "outputs": [
    {
     "data": {
      "text/plain": [
       "tripduration    240319\n",
       "usertype        240319\n",
       "birth year           0\n",
       "dtype: int64"
      ]
     },
     "execution_count": 16,
     "metadata": {},
     "output_type": "execute_result"
    }
   ],
   "source": [
    "dfyear[dfyear['usertype'] == 'Customer'].count()"
   ]
  },
  {
   "cell_type": "markdown",
   "metadata": {},
   "source": [
    "Actually, we shouldn't use the birth year variable, since only those who are subscribers had registered their birth years."
   ]
  },
  {
   "cell_type": "code",
   "execution_count": 17,
   "metadata": {},
   "outputs": [
    {
     "data": {
      "text/plain": [
       "tripduration    1101.423426\n",
       "dtype: float64"
      ]
     },
     "execution_count": 17,
     "metadata": {},
     "output_type": "execute_result"
    }
   ],
   "source": [
    "df[df['usertype'] == 'Subscriber'].mean()"
   ]
  },
  {
   "cell_type": "code",
   "execution_count": 18,
   "metadata": {},
   "outputs": [
    {
     "data": {
      "text/plain": [
       "tripduration    1753.233523\n",
       "dtype: float64"
      ]
     },
     "execution_count": 18,
     "metadata": {},
     "output_type": "execute_result"
    }
   ],
   "source": [
    "df[df['usertype'] == 'Customer'].mean()"
   ]
  },
  {
   "cell_type": "markdown",
   "metadata": {},
   "source": [
    "# Assignment 8 HW 2:\n",
    "\n",
    "Taken from the citibike md:\n",
    "\n",
    "### Hypothesis Formulation:\n",
    "I believe that the hypothesis are formulated correctly\n",
    "\n",
    "### Data Verification:\n",
    "The data has the correct features to answer the question\n",
    "\n",
    "But I believe that the data representation is not appropriate\n",
    "\n",
    "because the bar chart only showed the count of trips for two user groups, instead of the average of trip duration for each user group, as stated in the null hypothesis\n",
    "\n",
    "### Statistical Test:\n",
    "The independent variable is the type of the user, subscriber or customer\n",
    "\n",
    "The dependent variabel is the average trip duration\n",
    "\n",
    "The goal is to testing whether there is a difference between the means of two samples\n",
    "\n",
    "t test should be used to test this hypothesis"
   ]
  },
  {
   "cell_type": "code",
   "execution_count": 20,
   "metadata": {},
   "outputs": [
    {
     "data": {
      "text/plain": [
       "Text(0.5,1,'Average trip duration classified by customer or subscriber')"
      ]
     },
     "execution_count": 20,
     "metadata": {},
     "output_type": "execute_result"
    },
    {
     "data": {
      "image/png": "[encoded data removed]",
      "text/plain": [
       "<matplotlib.figure.Figure at 0x7fa501de8400>"
      ]
     },
     "metadata": {},
     "output_type": "display_data"
    }
   ],
   "source": [
    "barhg = (df['tripduration'].groupby(df['usertype']).mean()).plot(kind='barh')\n",
    "barhg.set_xlabel('Customer or Subscriber')\n",
    "barhg.set_ylabel('trip duration in seconds')\n",
    "barhg.set_title('Average trip duration classified by customer or subscriber')"
   ]
  },
  {
   "cell_type": "markdown",
   "metadata": {},
   "source": [
    "### KS Test:\n",
    "\n",
    "So to do the KS test and t test, I believe it is better to change my hypothesis to correspond to this, since the KS test is two-sided, and the two-sided t test can be tested using the function. the KS test is used to check if the distribution of the samples are the same. \n",
    "\n",
    "Computes the Kolmogorov-Smirnov statistic on 2 samples.\n",
    "\n",
    "This is a two-sided test for the null hypothesis that 2 independent samples are drawn from the same continuous distribution.\n",
    "\n",
    "If the K-S statistic is small or the p-value is high, then we cannot reject the hypothesis that the distributions of the two samples are the same."
   ]
  },
  {
   "cell_type": "code",
   "execution_count": 26,
   "metadata": {},
   "outputs": [
    {
     "name": "stdout",
     "output_type": "stream",
     "text": [
      "Ks_2sampResult(statistic=0.27356120416838353, pvalue=0.0)\n"
     ]
    }
   ],
   "source": [
    "ks = scipy.stats.ks_2samp(df[df['usertype'] == 'Subscriber'].tripduration, df[df['usertype'] == 'Customer'].tripduration)\n",
    "print (ks)"
   ]
  },
  {
   "cell_type": "markdown",
   "metadata": {},
   "source": [
    "The KS statistic is very large and the pvalue is very small! We can therefore reject the null hypothesis that the distribution of the two samples are the same.\n",
    "\n",
    "This is a concern, since the t test function assumes equal sized distribution."
   ]
  },
  {
   "cell_type": "code",
   "execution_count": 27,
   "metadata": {},
   "outputs": [
    {
     "data": {
      "text/plain": [
       "Ttest_indResult(statistic=-27.064827934997648, pvalue=3.2251912855822132e-161)"
      ]
     },
     "execution_count": 27,
     "metadata": {},
     "output_type": "execute_result"
    }
   ],
   "source": [
    "scipy.stats.ttest_ind(df[df['usertype'] == 'Subscriber'].tripduration, df[df['usertype'] == 'Customer'].tripduration)"
   ]
  },
  {
   "cell_type": "markdown",
   "metadata": {},
   "source": [
    "This t test assumes equal distribution and variance"
   ]
  },
  {
   "cell_type": "code",
   "execution_count": 30,
   "metadata": {},
   "outputs": [
    {
     "data": {
      "text/plain": [
       "Ttest_indResult(statistic=-23.821528554633645, pvalue=2.643818232977887e-125)"
      ]
     },
     "execution_count": 30,
     "metadata": {},
     "output_type": "execute_result"
    }
   ],
   "source": [
    "scipy.stats.ttest_ind(df[df['usertype'] == 'Subscriber'].tripduration, df[df['usertype'] == 'Customer'].tripduration, equal_var=False)"
   ]
  },
  {
   "cell_type": "markdown",
   "metadata": {},
   "source": [
    "This t test assumes non equal variance and distribution, and does the welche's t-test.\n",
    "\n",
    "Both of these t tests gives us a very small p-value and a large t statistic. However, it might be more accurate to calculate it manually. and also calculate whether the variance are similar or not."
   ]
  },
  {
   "cell_type": "markdown",
   "metadata": {},
   "source": []
  },
  {
   "cell_type": "code",
   "execution_count": 31,
   "metadata": {},
   "outputs": [],
   "source": [
    "stdS = df[df['usertype'] == 'Subscriber'].tripduration.std()"
   ]
  },
  {
   "cell_type": "code",
   "execution_count": 32,
   "metadata": {},
   "outputs": [],
   "source": [
    "stdC = df[df['usertype'] == 'Customer'].tripduration.std()"
   ]
  },
  {
   "cell_type": "code",
   "execution_count": 33,
   "metadata": {},
   "outputs": [
    {
     "data": {
      "text/plain": [
       "12794.272515902303"
      ]
     },
     "execution_count": 33,
     "metadata": {},
     "output_type": "execute_result"
    }
   ],
   "source": [
    "stdC"
   ]
  },
  {
   "cell_type": "code",
   "execution_count": 34,
   "metadata": {},
   "outputs": [
    {
     "data": {
      "text/plain": [
       "4773.6001263856115"
      ]
     },
     "execution_count": 34,
     "metadata": {},
     "output_type": "execute_result"
    }
   ],
   "source": [
    "stdS"
   ]
  },
  {
   "cell_type": "code",
   "execution_count": 35,
   "metadata": {},
   "outputs": [],
   "source": [
    "uS = df[df['usertype'] == 'Subscriber'].tripduration.mean()\n",
    "uC = df[df['usertype'] == 'Customer'].tripduration.mean()"
   ]
  },
  {
   "cell_type": "code",
   "execution_count": 36,
   "metadata": {},
   "outputs": [
    {
     "data": {
      "text/plain": [
       "1101.4234255329238"
      ]
     },
     "execution_count": 36,
     "metadata": {},
     "output_type": "execute_result"
    }
   ],
   "source": [
    "uS"
   ]
  },
  {
   "cell_type": "code",
   "execution_count": 37,
   "metadata": {},
   "outputs": [
    {
     "data": {
      "text/plain": [
       "1753.2335229424223"
      ]
     },
     "execution_count": 37,
     "metadata": {},
     "output_type": "execute_result"
    }
   ],
   "source": [
    "uC"
   ]
  },
  {
   "cell_type": "code",
   "execution_count": 38,
   "metadata": {},
   "outputs": [
    {
     "data": {
      "text/plain": [
       "0.1392069373864159"
      ]
     },
     "execution_count": 38,
     "metadata": {},
     "output_type": "execute_result"
    }
   ],
   "source": [
    "F = (stdS**2)/(stdC**2)\n",
    "F"
   ]
  },
  {
   "cell_type": "code",
   "execution_count": 40,
   "metadata": {},
   "outputs": [],
   "source": [
    "nS = len(df[df['usertype'] == 'Subscriber'].tripduration)\n",
    "nC = len(df[df['usertype'] == 'Customer'].tripduration)"
   ]
  },
  {
   "cell_type": "code",
   "execution_count": 41,
   "metadata": {},
   "outputs": [
    {
     "data": {
      "text/plain": [
       "337384"
      ]
     },
     "execution_count": 41,
     "metadata": {},
     "output_type": "execute_result"
    }
   ],
   "source": [
    "nS"
   ]
  },
  {
   "cell_type": "code",
   "execution_count": 42,
   "metadata": {},
   "outputs": [
    {
     "data": {
      "text/plain": [
       "240319"
      ]
     },
     "execution_count": 42,
     "metadata": {},
     "output_type": "execute_result"
    }
   ],
   "source": [
    "nC"
   ]
  },
  {
   "cell_type": "markdown",
   "metadata": {},
   "source": [
    "the formula for t-score is\n",
    "\n",
    "t = $\\frac{µ - x}{s / \\sqrt{N}}$"
   ]
  },
  {
   "cell_type": "code",
   "execution_count": 56,
   "metadata": {},
   "outputs": [],
   "source": [
    "t = (uS - uC) / (sqrt((stdS**2 /(nS)) + (stdC**2 / (nC))))"
   ]
  },
  {
   "cell_type": "code",
   "execution_count": 57,
   "metadata": {},
   "outputs": [
    {
     "data": {
      "text/plain": [
       "-23.821528554633645"
      ]
     },
     "execution_count": 57,
     "metadata": {},
     "output_type": "execute_result"
    }
   ],
   "source": [
    "t"
   ]
  },
  {
   "cell_type": "code",
   "execution_count": 58,
   "metadata": {},
   "outputs": [],
   "source": [
    "dof = nS+nC-2"
   ]
  },
  {
   "cell_type": "code",
   "execution_count": 59,
   "metadata": {},
   "outputs": [
    {
     "data": {
      "text/plain": [
       "577701"
      ]
     },
     "execution_count": 59,
     "metadata": {},
     "output_type": "execute_result"
    }
   ],
   "source": [
    "dof"
   ]
  },
  {
   "cell_type": "markdown",
   "metadata": {},
   "source": [
    "Critical value with dof 577701: t-test at 1.960."
   ]
  },
  {
   "cell_type": "markdown",
   "metadata": {},
   "source": [
    "### Conclusion:"
   ]
  },
  {
   "cell_type": "markdown",
   "metadata": {},
   "source": [
    "the absolute value of the t-statistic is 23.821. Testing it with the function gave us a p-value of 2.643818232977887e-125, which is extremely close to zero, much less than 0.05. Also, since the t-statistic is much greater than the two-sided critical value at alpha=0.05, which is 1.960, we can safely reject the null hypothesis that there is no difference of trip durations between customer and subscriber riders in favor of the alternative that there is a large difference."
   ]
  },
  {
   "cell_type": "code",
   "execution_count": null,
   "metadata": {},
   "outputs": [],
   "source": []
  }
 ],
 "metadata": {
  "kernelspec": {
   "display_name": "PUI2016_Python3",
   "language": "python",
   "name": "pui2016_python3"
  },
  "language_info": {
   "codemirror_mode": {
    "name": "ipython",
    "version": 3
   },
   "file_extension": ".py",
   "mimetype": "text/x-python",
   "name": "python",
   "nbconvert_exporter": "python",
   "pygments_lexer": "ipython3",
   "version": "3.5.4"
  }
 },
 "nbformat": 4,
 "nbformat_minor": 2
}
