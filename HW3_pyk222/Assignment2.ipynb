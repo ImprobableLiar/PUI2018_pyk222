{
 "cells": [
  {
   "cell_type": "code",
   "execution_count": 23,
   "metadata": {},
   "outputs": [
    {
     "name": "stdout",
     "output_type": "stream",
     "text": [
      "Populating the interactive namespace from numpy and matplotlib\n"
     ]
    },
    {
     "name": "stderr",
     "output_type": "stream",
     "text": [
      "/usr/local/Anaconda3-5.0.0-Linux-x86_64/envs/PUI2016_Python3/lib/python3.5/site-packages/IPython/core/magics/pylab.py:161: UserWarning: pylab import has clobbered these variables: ['figure']\n",
      "`%matplotlib` prevents importing * from pylab and numpy\n",
      "  \"\\n`%matplotlib` prevents importing * from pylab and numpy\"\n"
     ]
    }
   ],
   "source": [
    "import pandas as pd\n",
    "#import geopandas as gp\n",
    "import statsmodels.formula.api as smf\n",
    "import statsmodels.stats.sandwich_covariance as sw\n",
    "import os\n",
    "import pylab as pl\n",
    "import matplotlib.pyplot as plt\n",
    "%pylab inline"
   ]
  },
  {
   "cell_type": "code",
   "execution_count": 24,
   "metadata": {},
   "outputs": [
    {
     "name": "stdout",
     "output_type": "stream",
     "text": [
      "  % Total    % Received % Xferd  Average Speed   Time    Time     Time  Current\n",
      "                                 Dload  Upload   Total   Spent    Left  Speed\n",
      "100  719k    0  719k    0     0  1111k      0 --:--:-- --:--:-- --:--:-- 1110k\n"
     ]
    }
   ],
   "source": [
    "!curl https://data.cityofnewyork.us/api/views/hxm3-23vy/rows.csv?accessType=DOWNLOAD > edesignations.csv"
   ]
  },
  {
   "cell_type": "code",
   "execution_count": 25,
   "metadata": {},
   "outputs": [
    {
     "name": "stdout",
     "output_type": "stream",
     "text": [
      "PUIdata /nfshome/pyk222/PUIdata\n"
     ]
    }
   ],
   "source": [
    "print(\"PUIdata\", os.getenv(\"PUIDATA\"))"
   ]
  },
  {
   "cell_type": "code",
   "execution_count": 26,
   "metadata": {},
   "outputs": [],
   "source": [
    "!mv edesignations.csv $PUIDATA"
   ]
  },
  {
   "cell_type": "code",
   "execution_count": 27,
   "metadata": {},
   "outputs": [
    {
     "name": "stdout",
     "output_type": "stream",
     "text": [
      "edesignations.csv\r\n"
     ]
    }
   ],
   "source": [
    "!ls $PUIDATA"
   ]
  },
  {
   "cell_type": "code",
   "execution_count": 28,
   "metadata": {},
   "outputs": [
    {
     "data": {
      "text/html": [
       "<div>\n",
       "<table border=\"1\" class=\"dataframe\">\n",
       "  <thead>\n",
       "    <tr style=\"text-align: right;\">\n",
       "      <th></th>\n",
       "      <th>ENumber</th>\n",
       "      <th>E Effective Date</th>\n",
       "      <th>BOROCODE</th>\n",
       "      <th>TAXBLOCK</th>\n",
       "      <th>TAXLOT</th>\n",
       "      <th>HazMat Code</th>\n",
       "      <th>Air Code</th>\n",
       "      <th>Noise Code</th>\n",
       "      <th>HazMat Date</th>\n",
       "      <th>Air Date</th>\n",
       "      <th>Noise Date</th>\n",
       "      <th>CEQR_NUM</th>\n",
       "      <th>ULURP_NUM</th>\n",
       "    </tr>\n",
       "  </thead>\n",
       "  <tbody>\n",
       "    <tr>\n",
       "      <th>0</th>\n",
       "      <td>E-1</td>\n",
       "      <td>04/28/1983</td>\n",
       "      <td>3</td>\n",
       "      <td>319</td>\n",
       "      <td>1</td>\n",
       "      <td>0</td>\n",
       "      <td>0</td>\n",
       "      <td>1</td>\n",
       "      <td>NaN</td>\n",
       "      <td>NaN</td>\n",
       "      <td>NaN</td>\n",
       "      <td>82-252K</td>\n",
       "      <td>830178 ZMK</td>\n",
       "    </tr>\n",
       "    <tr>\n",
       "      <th>1</th>\n",
       "      <td>E-1</td>\n",
       "      <td>04/28/1983</td>\n",
       "      <td>3</td>\n",
       "      <td>319</td>\n",
       "      <td>10</td>\n",
       "      <td>0</td>\n",
       "      <td>0</td>\n",
       "      <td>1</td>\n",
       "      <td>NaN</td>\n",
       "      <td>NaN</td>\n",
       "      <td>NaN</td>\n",
       "      <td>82-252K</td>\n",
       "      <td>830178 ZMK</td>\n",
       "    </tr>\n",
       "    <tr>\n",
       "      <th>2</th>\n",
       "      <td>E-1</td>\n",
       "      <td>04/28/1983</td>\n",
       "      <td>3</td>\n",
       "      <td>319</td>\n",
       "      <td>11</td>\n",
       "      <td>0</td>\n",
       "      <td>0</td>\n",
       "      <td>1</td>\n",
       "      <td>NaN</td>\n",
       "      <td>NaN</td>\n",
       "      <td>NaN</td>\n",
       "      <td>82-252K</td>\n",
       "      <td>830178 ZMK</td>\n",
       "    </tr>\n",
       "    <tr>\n",
       "      <th>3</th>\n",
       "      <td>E-1</td>\n",
       "      <td>04/28/1983</td>\n",
       "      <td>3</td>\n",
       "      <td>319</td>\n",
       "      <td>12</td>\n",
       "      <td>0</td>\n",
       "      <td>0</td>\n",
       "      <td>1</td>\n",
       "      <td>NaN</td>\n",
       "      <td>NaN</td>\n",
       "      <td>05/31/2018</td>\n",
       "      <td>82-252K</td>\n",
       "      <td>830178 ZMK</td>\n",
       "    </tr>\n",
       "    <tr>\n",
       "      <th>4</th>\n",
       "      <td>E-1</td>\n",
       "      <td>04/28/1983</td>\n",
       "      <td>3</td>\n",
       "      <td>319</td>\n",
       "      <td>13</td>\n",
       "      <td>0</td>\n",
       "      <td>0</td>\n",
       "      <td>1</td>\n",
       "      <td>NaN</td>\n",
       "      <td>NaN</td>\n",
       "      <td>05/31/2018</td>\n",
       "      <td>82-252K</td>\n",
       "      <td>830178 ZMK</td>\n",
       "    </tr>\n",
       "    <tr>\n",
       "      <th>5</th>\n",
       "      <td>E-1</td>\n",
       "      <td>04/28/1983</td>\n",
       "      <td>3</td>\n",
       "      <td>319</td>\n",
       "      <td>14</td>\n",
       "      <td>0</td>\n",
       "      <td>0</td>\n",
       "      <td>1</td>\n",
       "      <td>NaN</td>\n",
       "      <td>NaN</td>\n",
       "      <td>NaN</td>\n",
       "      <td>82-252K</td>\n",
       "      <td>830178 ZMK</td>\n",
       "    </tr>\n",
       "    <tr>\n",
       "      <th>6</th>\n",
       "      <td>E-1</td>\n",
       "      <td>04/28/1983</td>\n",
       "      <td>3</td>\n",
       "      <td>319</td>\n",
       "      <td>15</td>\n",
       "      <td>0</td>\n",
       "      <td>0</td>\n",
       "      <td>1</td>\n",
       "      <td>NaN</td>\n",
       "      <td>NaN</td>\n",
       "      <td>NaN</td>\n",
       "      <td>82-252K</td>\n",
       "      <td>830178 ZMK</td>\n",
       "    </tr>\n",
       "  </tbody>\n",
       "</table>\n",
       "</div>"
      ],
      "text/plain": [
       "  ENumber E Effective Date  BOROCODE  TAXBLOCK  TAXLOT  HazMat Code  Air Code  \\\n",
       "0     E-1       04/28/1983         3       319       1            0         0   \n",
       "1     E-1       04/28/1983         3       319      10            0         0   \n",
       "2     E-1       04/28/1983         3       319      11            0         0   \n",
       "3     E-1       04/28/1983         3       319      12            0         0   \n",
       "4     E-1       04/28/1983         3       319      13            0         0   \n",
       "5     E-1       04/28/1983         3       319      14            0         0   \n",
       "6     E-1       04/28/1983         3       319      15            0         0   \n",
       "\n",
       "   Noise Code HazMat Date Air Date  Noise Date CEQR_NUM   ULURP_NUM  \n",
       "0           1         NaN      NaN         NaN  82-252K  830178 ZMK  \n",
       "1           1         NaN      NaN         NaN  82-252K  830178 ZMK  \n",
       "2           1         NaN      NaN         NaN  82-252K  830178 ZMK  \n",
       "3           1         NaN      NaN  05/31/2018  82-252K  830178 ZMK  \n",
       "4           1         NaN      NaN  05/31/2018  82-252K  830178 ZMK  \n",
       "5           1         NaN      NaN         NaN  82-252K  830178 ZMK  \n",
       "6           1         NaN      NaN         NaN  82-252K  830178 ZMK  "
      ]
     },
     "execution_count": 28,
     "metadata": {},
     "output_type": "execute_result"
    }
   ],
   "source": [
    "#read in the data with pandas\n",
    "df = pd.read_csv(\"%s/edesignations.csv\"%os.getenv(\"PUIDATA\"))\n",
    "df.head(7)"
   ]
  },
  {
   "cell_type": "code",
   "execution_count": 29,
   "metadata": {},
   "outputs": [
    {
     "data": {
      "text/html": [
       "<div>\n",
       "<table border=\"1\" class=\"dataframe\">\n",
       "  <thead>\n",
       "    <tr style=\"text-align: right;\">\n",
       "      <th></th>\n",
       "      <th>ENumber</th>\n",
       "      <th>E Effective Date</th>\n",
       "      <th>BOROCODE</th>\n",
       "      <th>TAXBLOCK</th>\n",
       "      <th>TAXLOT</th>\n",
       "      <th>HazMat Code</th>\n",
       "      <th>Air Code</th>\n",
       "      <th>Noise Code</th>\n",
       "      <th>HazMat Date</th>\n",
       "      <th>Air Date</th>\n",
       "      <th>Noise Date</th>\n",
       "      <th>CEQR_NUM</th>\n",
       "      <th>ULURP_NUM</th>\n",
       "    </tr>\n",
       "  </thead>\n",
       "  <tbody>\n",
       "    <tr>\n",
       "      <th>11354</th>\n",
       "      <td>R-98</td>\n",
       "      <td>02/02/2007</td>\n",
       "      <td>4</td>\n",
       "      <td>9363</td>\n",
       "      <td>44</td>\n",
       "      <td>1</td>\n",
       "      <td>0</td>\n",
       "      <td>0</td>\n",
       "      <td>NaN</td>\n",
       "      <td>NaN</td>\n",
       "      <td>NaN</td>\n",
       "      <td>02DCP063Q</td>\n",
       "      <td>030032 ZSQ</td>\n",
       "    </tr>\n",
       "    <tr>\n",
       "      <th>11355</th>\n",
       "      <td>R-98</td>\n",
       "      <td>02/02/2007</td>\n",
       "      <td>4</td>\n",
       "      <td>9363</td>\n",
       "      <td>46</td>\n",
       "      <td>1</td>\n",
       "      <td>0</td>\n",
       "      <td>0</td>\n",
       "      <td>NaN</td>\n",
       "      <td>NaN</td>\n",
       "      <td>NaN</td>\n",
       "      <td>02DCP063Q</td>\n",
       "      <td>030032 ZSQ</td>\n",
       "    </tr>\n",
       "    <tr>\n",
       "      <th>11356</th>\n",
       "      <td>R-98</td>\n",
       "      <td>02/02/2007</td>\n",
       "      <td>4</td>\n",
       "      <td>9363</td>\n",
       "      <td>48</td>\n",
       "      <td>1</td>\n",
       "      <td>0</td>\n",
       "      <td>0</td>\n",
       "      <td>NaN</td>\n",
       "      <td>NaN</td>\n",
       "      <td>NaN</td>\n",
       "      <td>02DCP063Q</td>\n",
       "      <td>030032 ZSQ</td>\n",
       "    </tr>\n",
       "    <tr>\n",
       "      <th>11357</th>\n",
       "      <td>R-98</td>\n",
       "      <td>02/02/2007</td>\n",
       "      <td>4</td>\n",
       "      <td>9363</td>\n",
       "      <td>50</td>\n",
       "      <td>1</td>\n",
       "      <td>0</td>\n",
       "      <td>0</td>\n",
       "      <td>NaN</td>\n",
       "      <td>NaN</td>\n",
       "      <td>NaN</td>\n",
       "      <td>02DCP063Q</td>\n",
       "      <td>030032 ZSQ</td>\n",
       "    </tr>\n",
       "    <tr>\n",
       "      <th>11358</th>\n",
       "      <td>R-98</td>\n",
       "      <td>02/02/2007</td>\n",
       "      <td>4</td>\n",
       "      <td>9363</td>\n",
       "      <td>52</td>\n",
       "      <td>1</td>\n",
       "      <td>0</td>\n",
       "      <td>0</td>\n",
       "      <td>NaN</td>\n",
       "      <td>NaN</td>\n",
       "      <td>NaN</td>\n",
       "      <td>02DCP063Q</td>\n",
       "      <td>030032 ZSQ</td>\n",
       "    </tr>\n",
       "    <tr>\n",
       "      <th>11359</th>\n",
       "      <td>R-98</td>\n",
       "      <td>02/02/2007</td>\n",
       "      <td>4</td>\n",
       "      <td>9363</td>\n",
       "      <td>54</td>\n",
       "      <td>1</td>\n",
       "      <td>0</td>\n",
       "      <td>0</td>\n",
       "      <td>NaN</td>\n",
       "      <td>NaN</td>\n",
       "      <td>NaN</td>\n",
       "      <td>02DCP063Q</td>\n",
       "      <td>030032 ZSQ</td>\n",
       "    </tr>\n",
       "    <tr>\n",
       "      <th>11360</th>\n",
       "      <td>R-98</td>\n",
       "      <td>02/02/2007</td>\n",
       "      <td>4</td>\n",
       "      <td>9363</td>\n",
       "      <td>8</td>\n",
       "      <td>1</td>\n",
       "      <td>0</td>\n",
       "      <td>0</td>\n",
       "      <td>NaN</td>\n",
       "      <td>NaN</td>\n",
       "      <td>NaN</td>\n",
       "      <td>02DCP063Q</td>\n",
       "      <td>030032 ZSQ</td>\n",
       "    </tr>\n",
       "    <tr>\n",
       "      <th>11361</th>\n",
       "      <td>R-99</td>\n",
       "      <td>02/07/2007</td>\n",
       "      <td>3</td>\n",
       "      <td>2849</td>\n",
       "      <td>1</td>\n",
       "      <td>1</td>\n",
       "      <td>0</td>\n",
       "      <td>0</td>\n",
       "      <td>NaN</td>\n",
       "      <td>NaN</td>\n",
       "      <td>NaN</td>\n",
       "      <td>05BSA066K</td>\n",
       "      <td>378-04-BZ</td>\n",
       "    </tr>\n",
       "  </tbody>\n",
       "</table>\n",
       "</div>"
      ],
      "text/plain": [
       "      ENumber E Effective Date  BOROCODE  TAXBLOCK  TAXLOT  HazMat Code  \\\n",
       "11354    R-98       02/02/2007         4      9363      44            1   \n",
       "11355    R-98       02/02/2007         4      9363      46            1   \n",
       "11356    R-98       02/02/2007         4      9363      48            1   \n",
       "11357    R-98       02/02/2007         4      9363      50            1   \n",
       "11358    R-98       02/02/2007         4      9363      52            1   \n",
       "11359    R-98       02/02/2007         4      9363      54            1   \n",
       "11360    R-98       02/02/2007         4      9363       8            1   \n",
       "11361    R-99       02/07/2007         3      2849       1            1   \n",
       "\n",
       "       Air Code  Noise Code HazMat Date Air Date Noise Date   CEQR_NUM  \\\n",
       "11354         0           0         NaN      NaN        NaN  02DCP063Q   \n",
       "11355         0           0         NaN      NaN        NaN  02DCP063Q   \n",
       "11356         0           0         NaN      NaN        NaN  02DCP063Q   \n",
       "11357         0           0         NaN      NaN        NaN  02DCP063Q   \n",
       "11358         0           0         NaN      NaN        NaN  02DCP063Q   \n",
       "11359         0           0         NaN      NaN        NaN  02DCP063Q   \n",
       "11360         0           0         NaN      NaN        NaN  02DCP063Q   \n",
       "11361         0           0         NaN      NaN        NaN  05BSA066K   \n",
       "\n",
       "        ULURP_NUM  \n",
       "11354  030032 ZSQ  \n",
       "11355  030032 ZSQ  \n",
       "11356  030032 ZSQ  \n",
       "11357  030032 ZSQ  \n",
       "11358  030032 ZSQ  \n",
       "11359  030032 ZSQ  \n",
       "11360  030032 ZSQ  \n",
       "11361   378-04-BZ  "
      ]
     },
     "execution_count": 29,
     "metadata": {},
     "output_type": "execute_result"
    }
   ],
   "source": [
    "df.tail(8)"
   ]
  },
  {
   "cell_type": "code",
   "execution_count": 30,
   "metadata": {},
   "outputs": [
    {
     "data": {
      "text/html": [
       "<div>\n",
       "<table border=\"1\" class=\"dataframe\">\n",
       "  <thead>\n",
       "    <tr style=\"text-align: right;\">\n",
       "      <th></th>\n",
       "      <th>TAXBLOCK</th>\n",
       "      <th>TAXLOT</th>\n",
       "    </tr>\n",
       "  </thead>\n",
       "  <tbody>\n",
       "    <tr>\n",
       "      <th>0</th>\n",
       "      <td>319</td>\n",
       "      <td>1</td>\n",
       "    </tr>\n",
       "    <tr>\n",
       "      <th>1</th>\n",
       "      <td>319</td>\n",
       "      <td>10</td>\n",
       "    </tr>\n",
       "    <tr>\n",
       "      <th>2</th>\n",
       "      <td>319</td>\n",
       "      <td>11</td>\n",
       "    </tr>\n",
       "    <tr>\n",
       "      <th>3</th>\n",
       "      <td>319</td>\n",
       "      <td>12</td>\n",
       "    </tr>\n",
       "    <tr>\n",
       "      <th>4</th>\n",
       "      <td>319</td>\n",
       "      <td>13</td>\n",
       "    </tr>\n",
       "    <tr>\n",
       "      <th>5</th>\n",
       "      <td>319</td>\n",
       "      <td>14</td>\n",
       "    </tr>\n",
       "    <tr>\n",
       "      <th>6</th>\n",
       "      <td>319</td>\n",
       "      <td>15</td>\n",
       "    </tr>\n",
       "  </tbody>\n",
       "</table>\n",
       "</div>"
      ],
      "text/plain": [
       "   TAXBLOCK  TAXLOT\n",
       "0       319       1\n",
       "1       319      10\n",
       "2       319      11\n",
       "3       319      12\n",
       "4       319      13\n",
       "5       319      14\n",
       "6       319      15"
      ]
     },
     "execution_count": 30,
     "metadata": {},
     "output_type": "execute_result"
    }
   ],
   "source": [
    "df2columns = df[['TAXBLOCK', 'TAXLOT']]\n",
    "df2columns.head(7)"
   ]
  },
  {
   "cell_type": "code",
   "execution_count": 31,
   "metadata": {},
   "outputs": [
    {
     "data": {
      "text/plain": [
       "<matplotlib.legend.Legend at 0x7f63c4b26b38>"
      ]
     },
     "execution_count": 31,
     "metadata": {},
     "output_type": "execute_result"
    },
    {
     "data": {
      "image/png": "[encoded data removed]",
      "text/plain": [
       "<matplotlib.figure.Figure at 0x7f63c4b234a8>"
      ]
     },
     "metadata": {},
     "output_type": "display_data"
    }
   ],
   "source": [
    "dfplot1 = df2columns.plot(x=\"TAXBLOCK\", y=\"TAXLOT\", title='E-Designations: Environment Designations scatter plot between TAXLOT and TAXBLOCK', kind='scatter')\n",
    "#dfplot1 = df2columns.plot(x='TAXBLOCK', y='TAXLOT');\n",
    "dfplot1.set_ylabel(\"Number\");\n",
    "dfplot1.legend([\"TAXLOT\"])"
   ]
  },
  {
   "cell_type": "markdown",
   "metadata": {},
   "source": [
    "Figure 1: scatter plot between variable TAXBLOCK: A five digit numeric code that represents the tax block where the E-desigination is located, and variable TAXLOT: A four digit numeric code that represents the tax block where the E-desigination is located, between the dates 4/28/1983 to 2/07/2007."
   ]
  },
  {
   "cell_type": "code",
   "execution_count": 32,
   "metadata": {},
   "outputs": [
    {
     "data": {
      "text/plain": [
       "Index(['TAXBLOCK', 'TAXLOT'], dtype='object')"
      ]
     },
     "execution_count": 32,
     "metadata": {},
     "output_type": "execute_result"
    }
   ],
   "source": [
    "df2columns.columns"
   ]
  },
  {
   "cell_type": "code",
   "execution_count": 33,
   "metadata": {},
   "outputs": [
    {
     "data": {
      "text/plain": [
       "22724"
      ]
     },
     "execution_count": 33,
     "metadata": {},
     "output_type": "execute_result"
    }
   ],
   "source": [
    "df2columns.size"
   ]
  },
  {
   "cell_type": "code",
   "execution_count": 34,
   "metadata": {},
   "outputs": [],
   "source": [
    "url = \"https://data.cityofnewyork.us/resource/b8cy-fje8.json\""
   ]
  },
  {
   "cell_type": "code",
   "execution_count": 35,
   "metadata": {},
   "outputs": [],
   "source": [
    "df2 = pd.read_json(url)"
   ]
  },
  {
   "cell_type": "code",
   "execution_count": 36,
   "metadata": {},
   "outputs": [
    {
     "data": {
      "text/html": [
       "<div>\n",
       "<table border=\"1\" class=\"dataframe\">\n",
       "  <thead>\n",
       "    <tr style=\"text-align: right;\">\n",
       "      <th></th>\n",
       "      <th>_0</th>\n",
       "      <th>_0_1</th>\n",
       "      <th>_1</th>\n",
       "      <th>_1_1</th>\n",
       "      <th>_3</th>\n",
       "      <th>_319</th>\n",
       "      <th>_4_28_1983_0_00</th>\n",
       "      <th>_82_252k</th>\n",
       "      <th>_830178_zmk</th>\n",
       "      <th>column_10</th>\n",
       "      <th>column_8</th>\n",
       "      <th>e_1</th>\n",
       "    </tr>\n",
       "  </thead>\n",
       "  <tbody>\n",
       "    <tr>\n",
       "      <th>0</th>\n",
       "      <td>0</td>\n",
       "      <td>0</td>\n",
       "      <td>10</td>\n",
       "      <td>1</td>\n",
       "      <td>3</td>\n",
       "      <td>319</td>\n",
       "      <td>1983-04-28T00:00:00.000</td>\n",
       "      <td>82-252K</td>\n",
       "      <td>830178 ZMK</td>\n",
       "      <td>NaN</td>\n",
       "      <td>NaN</td>\n",
       "      <td>E-1</td>\n",
       "    </tr>\n",
       "    <tr>\n",
       "      <th>1</th>\n",
       "      <td>0</td>\n",
       "      <td>0</td>\n",
       "      <td>11</td>\n",
       "      <td>1</td>\n",
       "      <td>3</td>\n",
       "      <td>319</td>\n",
       "      <td>1983-04-28T00:00:00.000</td>\n",
       "      <td>82-252K</td>\n",
       "      <td>830178 ZMK</td>\n",
       "      <td>NaN</td>\n",
       "      <td>NaN</td>\n",
       "      <td>E-1</td>\n",
       "    </tr>\n",
       "    <tr>\n",
       "      <th>2</th>\n",
       "      <td>0</td>\n",
       "      <td>0</td>\n",
       "      <td>14</td>\n",
       "      <td>1</td>\n",
       "      <td>3</td>\n",
       "      <td>319</td>\n",
       "      <td>1983-04-28T00:00:00.000</td>\n",
       "      <td>82-252K</td>\n",
       "      <td>830178 ZMK</td>\n",
       "      <td>NaN</td>\n",
       "      <td>NaN</td>\n",
       "      <td>E-1</td>\n",
       "    </tr>\n",
       "    <tr>\n",
       "      <th>3</th>\n",
       "      <td>0</td>\n",
       "      <td>0</td>\n",
       "      <td>15</td>\n",
       "      <td>1</td>\n",
       "      <td>3</td>\n",
       "      <td>319</td>\n",
       "      <td>1983-04-28T00:00:00.000</td>\n",
       "      <td>82-252K</td>\n",
       "      <td>830178 ZMK</td>\n",
       "      <td>NaN</td>\n",
       "      <td>NaN</td>\n",
       "      <td>E-1</td>\n",
       "    </tr>\n",
       "    <tr>\n",
       "      <th>4</th>\n",
       "      <td>0</td>\n",
       "      <td>0</td>\n",
       "      <td>16</td>\n",
       "      <td>1</td>\n",
       "      <td>3</td>\n",
       "      <td>319</td>\n",
       "      <td>1983-04-28T00:00:00.000</td>\n",
       "      <td>82-252K</td>\n",
       "      <td>830178 ZMK</td>\n",
       "      <td>NaN</td>\n",
       "      <td>NaN</td>\n",
       "      <td>E-1</td>\n",
       "    </tr>\n",
       "    <tr>\n",
       "      <th>5</th>\n",
       "      <td>0</td>\n",
       "      <td>0</td>\n",
       "      <td>17</td>\n",
       "      <td>1</td>\n",
       "      <td>3</td>\n",
       "      <td>319</td>\n",
       "      <td>1983-04-28T00:00:00.000</td>\n",
       "      <td>82-252K</td>\n",
       "      <td>830178 ZMK</td>\n",
       "      <td>NaN</td>\n",
       "      <td>NaN</td>\n",
       "      <td>E-1</td>\n",
       "    </tr>\n",
       "    <tr>\n",
       "      <th>6</th>\n",
       "      <td>0</td>\n",
       "      <td>0</td>\n",
       "      <td>18</td>\n",
       "      <td>1</td>\n",
       "      <td>3</td>\n",
       "      <td>319</td>\n",
       "      <td>1983-04-28T00:00:00.000</td>\n",
       "      <td>82-252K</td>\n",
       "      <td>830178 ZMK</td>\n",
       "      <td>NaN</td>\n",
       "      <td>NaN</td>\n",
       "      <td>E-1</td>\n",
       "    </tr>\n",
       "    <tr>\n",
       "      <th>7</th>\n",
       "      <td>0</td>\n",
       "      <td>0</td>\n",
       "      <td>19</td>\n",
       "      <td>1</td>\n",
       "      <td>3</td>\n",
       "      <td>319</td>\n",
       "      <td>1983-04-28T00:00:00.000</td>\n",
       "      <td>82-252K</td>\n",
       "      <td>830178 ZMK</td>\n",
       "      <td>NaN</td>\n",
       "      <td>NaN</td>\n",
       "      <td>E-1</td>\n",
       "    </tr>\n",
       "  </tbody>\n",
       "</table>\n",
       "</div>"
      ],
      "text/plain": [
       "   _0  _0_1  _1  _1_1  _3  _319          _4_28_1983_0_00 _82_252k _830178_zmk  \\\n",
       "0   0     0  10     1   3   319  1983-04-28T00:00:00.000  82-252K  830178 ZMK   \n",
       "1   0     0  11     1   3   319  1983-04-28T00:00:00.000  82-252K  830178 ZMK   \n",
       "2   0     0  14     1   3   319  1983-04-28T00:00:00.000  82-252K  830178 ZMK   \n",
       "3   0     0  15     1   3   319  1983-04-28T00:00:00.000  82-252K  830178 ZMK   \n",
       "4   0     0  16     1   3   319  1983-04-28T00:00:00.000  82-252K  830178 ZMK   \n",
       "5   0     0  17     1   3   319  1983-04-28T00:00:00.000  82-252K  830178 ZMK   \n",
       "6   0     0  18     1   3   319  1983-04-28T00:00:00.000  82-252K  830178 ZMK   \n",
       "7   0     0  19     1   3   319  1983-04-28T00:00:00.000  82-252K  830178 ZMK   \n",
       "\n",
       "  column_10 column_8  e_1  \n",
       "0       NaN      NaN  E-1  \n",
       "1       NaN      NaN  E-1  \n",
       "2       NaN      NaN  E-1  \n",
       "3       NaN      NaN  E-1  \n",
       "4       NaN      NaN  E-1  \n",
       "5       NaN      NaN  E-1  \n",
       "6       NaN      NaN  E-1  \n",
       "7       NaN      NaN  E-1  "
      ]
     },
     "execution_count": 36,
     "metadata": {},
     "output_type": "execute_result"
    }
   ],
   "source": [
    "df2.head(8)"
   ]
  },
  {
   "cell_type": "code",
   "execution_count": 37,
   "metadata": {},
   "outputs": [
    {
     "data": {
      "text/html": [
       "<div>\n",
       "<table border=\"1\" class=\"dataframe\">\n",
       "  <thead>\n",
       "    <tr style=\"text-align: right;\">\n",
       "      <th></th>\n",
       "      <th>_0</th>\n",
       "      <th>_0_1</th>\n",
       "      <th>_1</th>\n",
       "      <th>_1_1</th>\n",
       "      <th>_3</th>\n",
       "      <th>_319</th>\n",
       "      <th>_4_28_1983_0_00</th>\n",
       "      <th>_82_252k</th>\n",
       "      <th>_830178_zmk</th>\n",
       "      <th>column_10</th>\n",
       "      <th>column_8</th>\n",
       "      <th>e_1</th>\n",
       "    </tr>\n",
       "  </thead>\n",
       "  <tbody>\n",
       "    <tr>\n",
       "      <th>992</th>\n",
       "      <td>1</td>\n",
       "      <td>0</td>\n",
       "      <td>41</td>\n",
       "      <td>1</td>\n",
       "      <td>1</td>\n",
       "      <td>708</td>\n",
       "      <td>2005-01-19T00:00:00.000</td>\n",
       "      <td>03DCP031M</td>\n",
       "      <td>040499 ZMM, 040507 MMM, 040508 MMM, 040499A ZMM</td>\n",
       "      <td>NaN</td>\n",
       "      <td>NaN</td>\n",
       "      <td>E-137</td>\n",
       "    </tr>\n",
       "    <tr>\n",
       "      <th>993</th>\n",
       "      <td>1</td>\n",
       "      <td>0</td>\n",
       "      <td>42</td>\n",
       "      <td>1</td>\n",
       "      <td>1</td>\n",
       "      <td>708</td>\n",
       "      <td>2005-01-19T00:00:00.000</td>\n",
       "      <td>03DCP031M</td>\n",
       "      <td>040499 ZMM, 040507 MMM, 040508 MMM, 040499A ZMM</td>\n",
       "      <td>NaN</td>\n",
       "      <td>NaN</td>\n",
       "      <td>E-137</td>\n",
       "    </tr>\n",
       "    <tr>\n",
       "      <th>994</th>\n",
       "      <td>1</td>\n",
       "      <td>0</td>\n",
       "      <td>43</td>\n",
       "      <td>1</td>\n",
       "      <td>1</td>\n",
       "      <td>708</td>\n",
       "      <td>2005-01-19T00:00:00.000</td>\n",
       "      <td>03DCP031M</td>\n",
       "      <td>040499 ZMM, 040507 MMM, 040508 MMM, 040499A ZMM</td>\n",
       "      <td>NaN</td>\n",
       "      <td>NaN</td>\n",
       "      <td>E-137</td>\n",
       "    </tr>\n",
       "    <tr>\n",
       "      <th>995</th>\n",
       "      <td>1</td>\n",
       "      <td>0</td>\n",
       "      <td>46</td>\n",
       "      <td>1</td>\n",
       "      <td>1</td>\n",
       "      <td>708</td>\n",
       "      <td>2005-01-19T00:00:00.000</td>\n",
       "      <td>03DCP031M</td>\n",
       "      <td>040499 ZMM, 040507 MMM, 040508 MMM, 040499A ZMM</td>\n",
       "      <td>NaN</td>\n",
       "      <td>NaN</td>\n",
       "      <td>E-137</td>\n",
       "    </tr>\n",
       "    <tr>\n",
       "      <th>996</th>\n",
       "      <td>1</td>\n",
       "      <td>0</td>\n",
       "      <td>62</td>\n",
       "      <td>1</td>\n",
       "      <td>1</td>\n",
       "      <td>708</td>\n",
       "      <td>2005-01-19T00:00:00.000</td>\n",
       "      <td>03DCP031M</td>\n",
       "      <td>040499 ZMM, 040507 MMM, 040508 MMM, 040499A ZMM</td>\n",
       "      <td>NaN</td>\n",
       "      <td>NaN</td>\n",
       "      <td>E-137</td>\n",
       "    </tr>\n",
       "    <tr>\n",
       "      <th>997</th>\n",
       "      <td>1</td>\n",
       "      <td>0</td>\n",
       "      <td>65</td>\n",
       "      <td>1</td>\n",
       "      <td>1</td>\n",
       "      <td>708</td>\n",
       "      <td>2005-01-19T00:00:00.000</td>\n",
       "      <td>03DCP031M</td>\n",
       "      <td>040499 ZMM, 040507 MMM, 040508 MMM, 040499A ZMM</td>\n",
       "      <td>NaN</td>\n",
       "      <td>NaN</td>\n",
       "      <td>E-137</td>\n",
       "    </tr>\n",
       "    <tr>\n",
       "      <th>998</th>\n",
       "      <td>1</td>\n",
       "      <td>0</td>\n",
       "      <td>1</td>\n",
       "      <td>1</td>\n",
       "      <td>1</td>\n",
       "      <td>709</td>\n",
       "      <td>2005-01-19T00:00:00.000</td>\n",
       "      <td>03DCP031M</td>\n",
       "      <td>040499 ZMM, 040507 MMM, 040508 MMM, 040499A ZMM</td>\n",
       "      <td>NaN</td>\n",
       "      <td>NaN</td>\n",
       "      <td>E-137</td>\n",
       "    </tr>\n",
       "    <tr>\n",
       "      <th>999</th>\n",
       "      <td>1</td>\n",
       "      <td>0</td>\n",
       "      <td>13</td>\n",
       "      <td>1</td>\n",
       "      <td>1</td>\n",
       "      <td>709</td>\n",
       "      <td>2005-01-19T00:00:00.000</td>\n",
       "      <td>03DCP031M</td>\n",
       "      <td>040499 ZMM, 040507 MMM, 040508 MMM, 040499A ZMM</td>\n",
       "      <td>NaN</td>\n",
       "      <td>NaN</td>\n",
       "      <td>E-137</td>\n",
       "    </tr>\n",
       "  </tbody>\n",
       "</table>\n",
       "</div>"
      ],
      "text/plain": [
       "     _0  _0_1  _1  _1_1  _3  _319          _4_28_1983_0_00   _82_252k  \\\n",
       "992   1     0  41     1   1   708  2005-01-19T00:00:00.000  03DCP031M   \n",
       "993   1     0  42     1   1   708  2005-01-19T00:00:00.000  03DCP031M   \n",
       "994   1     0  43     1   1   708  2005-01-19T00:00:00.000  03DCP031M   \n",
       "995   1     0  46     1   1   708  2005-01-19T00:00:00.000  03DCP031M   \n",
       "996   1     0  62     1   1   708  2005-01-19T00:00:00.000  03DCP031M   \n",
       "997   1     0  65     1   1   708  2005-01-19T00:00:00.000  03DCP031M   \n",
       "998   1     0   1     1   1   709  2005-01-19T00:00:00.000  03DCP031M   \n",
       "999   1     0  13     1   1   709  2005-01-19T00:00:00.000  03DCP031M   \n",
       "\n",
       "                                         _830178_zmk column_10 column_8    e_1  \n",
       "992  040499 ZMM, 040507 MMM, 040508 MMM, 040499A ZMM       NaN      NaN  E-137  \n",
       "993  040499 ZMM, 040507 MMM, 040508 MMM, 040499A ZMM       NaN      NaN  E-137  \n",
       "994  040499 ZMM, 040507 MMM, 040508 MMM, 040499A ZMM       NaN      NaN  E-137  \n",
       "995  040499 ZMM, 040507 MMM, 040508 MMM, 040499A ZMM       NaN      NaN  E-137  \n",
       "996  040499 ZMM, 040507 MMM, 040508 MMM, 040499A ZMM       NaN      NaN  E-137  \n",
       "997  040499 ZMM, 040507 MMM, 040508 MMM, 040499A ZMM       NaN      NaN  E-137  \n",
       "998  040499 ZMM, 040507 MMM, 040508 MMM, 040499A ZMM       NaN      NaN  E-137  \n",
       "999  040499 ZMM, 040507 MMM, 040508 MMM, 040499A ZMM       NaN      NaN  E-137  "
      ]
     },
     "execution_count": 37,
     "metadata": {},
     "output_type": "execute_result"
    }
   ],
   "source": [
    "df2.tail(8)"
   ]
  },
  {
   "cell_type": "code",
   "execution_count": 38,
   "metadata": {},
   "outputs": [],
   "source": [
    "df22columns = df2[['_4_28_1983_0_00', '_1', '_319']]"
   ]
  },
  {
   "cell_type": "code",
   "execution_count": 39,
   "metadata": {},
   "outputs": [
    {
     "data": {
      "text/html": [
       "<div>\n",
       "<table border=\"1\" class=\"dataframe\">\n",
       "  <thead>\n",
       "    <tr style=\"text-align: right;\">\n",
       "      <th></th>\n",
       "      <th>_4_28_1983_0_00</th>\n",
       "      <th>_1</th>\n",
       "      <th>_319</th>\n",
       "    </tr>\n",
       "  </thead>\n",
       "  <tbody>\n",
       "    <tr>\n",
       "      <th>0</th>\n",
       "      <td>1983-04-28T00:00:00.000</td>\n",
       "      <td>10</td>\n",
       "      <td>319</td>\n",
       "    </tr>\n",
       "    <tr>\n",
       "      <th>1</th>\n",
       "      <td>1983-04-28T00:00:00.000</td>\n",
       "      <td>11</td>\n",
       "      <td>319</td>\n",
       "    </tr>\n",
       "    <tr>\n",
       "      <th>2</th>\n",
       "      <td>1983-04-28T00:00:00.000</td>\n",
       "      <td>14</td>\n",
       "      <td>319</td>\n",
       "    </tr>\n",
       "    <tr>\n",
       "      <th>3</th>\n",
       "      <td>1983-04-28T00:00:00.000</td>\n",
       "      <td>15</td>\n",
       "      <td>319</td>\n",
       "    </tr>\n",
       "    <tr>\n",
       "      <th>4</th>\n",
       "      <td>1983-04-28T00:00:00.000</td>\n",
       "      <td>16</td>\n",
       "      <td>319</td>\n",
       "    </tr>\n",
       "    <tr>\n",
       "      <th>5</th>\n",
       "      <td>1983-04-28T00:00:00.000</td>\n",
       "      <td>17</td>\n",
       "      <td>319</td>\n",
       "    </tr>\n",
       "    <tr>\n",
       "      <th>6</th>\n",
       "      <td>1983-04-28T00:00:00.000</td>\n",
       "      <td>18</td>\n",
       "      <td>319</td>\n",
       "    </tr>\n",
       "    <tr>\n",
       "      <th>7</th>\n",
       "      <td>1983-04-28T00:00:00.000</td>\n",
       "      <td>19</td>\n",
       "      <td>319</td>\n",
       "    </tr>\n",
       "  </tbody>\n",
       "</table>\n",
       "</div>"
      ],
      "text/plain": [
       "           _4_28_1983_0_00  _1  _319\n",
       "0  1983-04-28T00:00:00.000  10   319\n",
       "1  1983-04-28T00:00:00.000  11   319\n",
       "2  1983-04-28T00:00:00.000  14   319\n",
       "3  1983-04-28T00:00:00.000  15   319\n",
       "4  1983-04-28T00:00:00.000  16   319\n",
       "5  1983-04-28T00:00:00.000  17   319\n",
       "6  1983-04-28T00:00:00.000  18   319\n",
       "7  1983-04-28T00:00:00.000  19   319"
      ]
     },
     "execution_count": 39,
     "metadata": {},
     "output_type": "execute_result"
    }
   ],
   "source": [
    "df22columns.head(8)"
   ]
  },
  {
   "cell_type": "code",
   "execution_count": 40,
   "metadata": {},
   "outputs": [
    {
     "name": "stderr",
     "output_type": "stream",
     "text": [
      "/usr/local/Anaconda3-5.0.0-Linux-x86_64/envs/PUI2016_Python3/lib/python3.5/site-packages/pandas/core/frame.py:2754: SettingWithCopyWarning: \n",
      "A value is trying to be set on a copy of a slice from a DataFrame\n",
      "\n",
      "See the caveats in the documentation: http://pandas.pydata.org/pandas-docs/stable/indexing.html#indexing-view-versus-copy\n",
      "  **kwargs)\n"
     ]
    }
   ],
   "source": [
    "df22columns.rename(columns = {'_4_28_1983_0_00':'Date', \n",
    "               '_1':'TAXLOT', \n",
    "               '_319': 'TAXBLOCK'}, inplace=True)"
   ]
  },
  {
   "cell_type": "code",
   "execution_count": 41,
   "metadata": {},
   "outputs": [
    {
     "data": {
      "image/png": "[encoded data removed]",
      "text/plain": [
       "<matplotlib.figure.Figure at 0x7f63c4aa9898>"
      ]
     },
     "metadata": {},
     "output_type": "display_data"
    }
   ],
   "source": [
    "dfplot2 = df22columns.plot(x='Date', y='TAXBLOCK');\n",
    "dfplot2.set_ylabel(\"Number\");"
   ]
  },
  {
   "cell_type": "code",
   "execution_count": 42,
   "metadata": {},
   "outputs": [
    {
     "name": "stderr",
     "output_type": "stream",
     "text": [
      "/usr/local/Anaconda3-5.0.0-Linux-x86_64/envs/PUI2016_Python3/lib/python3.5/site-packages/ipykernel/__main__.py:1: SettingWithCopyWarning: \n",
      "A value is trying to be set on a copy of a slice from a DataFrame.\n",
      "Try using .loc[row_indexer,col_indexer] = value instead\n",
      "\n",
      "See the caveats in the documentation: http://pandas.pydata.org/pandas-docs/stable/indexing.html#indexing-view-versus-copy\n",
      "  if __name__ == '__main__':\n"
     ]
    }
   ],
   "source": [
    "df22columns[\"Date\"] = df22columns[\"Date\"].apply(lambda x: pd.Timestamp(x))"
   ]
  },
  {
   "cell_type": "code",
   "execution_count": 43,
   "metadata": {
    "scrolled": false
   },
   "outputs": [
    {
     "data": {
      "image/png": "[encoded data removed]",
      "text/plain": [
       "<matplotlib.figure.Figure at 0x7f63c4ac4668>"
      ]
     },
     "metadata": {},
     "output_type": "display_data"
    }
   ],
   "source": [
    "#dfplot2 = df22columns.plot(x='Date', y='TAXBLOCK');\n",
    "#dfplot2.set_title(\"E-Designations: Environment Designations scatter plot between TAXBLOCK and Date of Census\")\n",
    "#dfplot2.set_ylabel(\"Number\");\n",
    "\n",
    "figure, dfplot2 = plt.subplots(figsize = (5,5))\n",
    "dfplot2.plot(df22columns.Date,df22columns.TAXBLOCK,'g^',label = 'TAXBLOCK')\n",
    "dfplot2.legend(loc='best')\n",
    "plt.xlabel('Date of Census', fontsize = 12)\n",
    "plt.ylabel('Number', fontsize = 12)\n",
    "plt.title(r'E-Designations: Environment Designations scatter plot between TAXBLOCK and Date of Census', fontsize = 12)\n",
    "plt.show()"
   ]
  },
  {
   "cell_type": "markdown",
   "metadata": {},
   "source": [
    "Figure 2: scatter plot between variable TAXBLOCK: A five digit numeric code that represents the tax block where the E-desigination is located, and dates between 4/28/1983 to 2/07/2007. There are gaps between dates, especially between 1989 and 2001. "
   ]
  },
  {
   "cell_type": "code",
   "execution_count": 44,
   "metadata": {},
   "outputs": [
    {
     "data": {
      "image/png": "[encoded data removed]",
      "text/plain": [
       "<matplotlib.figure.Figure at 0x7f63c4abc908>"
      ]
     },
     "metadata": {},
     "output_type": "display_data"
    }
   ],
   "source": [
    "#dfplot3 = df22columns.plot(x='Date', y='TAXLOT');\n",
    "#dfplot3.set_ylabel(\"Number\");\n",
    "\n",
    "figure, dfplot3 = plt.subplots(figsize = (5,5))\n",
    "dfplot3.plot(df22columns.Date,df22columns.TAXLOT,'g^',label = 'TAXLOT')\n",
    "dfplot3.legend(loc='best')\n",
    "plt.xlabel('Date of Census', fontsize = 12)\n",
    "plt.ylabel('Number', fontsize = 12)\n",
    "plt.title(r'E-Designations: Environment Designations scatter plot between TAXLOT and Date of Census', fontsize = 14)\n",
    "plt.show()"
   ]
  },
  {
   "cell_type": "markdown",
   "metadata": {},
   "source": [
    "Figure 3: scatter plot between variable TAXLOT: A four digit numeric code that represents the tax block where the E-desigination is located, and dates between 4/28/1983 to 2/07/2007. There are gaps between dates, especially between 1989 and 2001. "
   ]
  },
  {
   "cell_type": "code",
   "execution_count": null,
   "metadata": {},
   "outputs": [],
   "source": []
  },
  {
   "cell_type": "code",
   "execution_count": null,
   "metadata": {},
   "outputs": [],
   "source": []
  }
 ],
 "metadata": {
  "kernelspec": {
   "display_name": "PUI2016_Python3",
   "language": "python",
   "name": "pui2016_python3"
  },
  "language_info": {
   "codemirror_mode": {
    "name": "ipython",
    "version": 3
   },
   "file_extension": ".py",
   "mimetype": "text/x-python",
   "name": "python",
   "nbconvert_exporter": "python",
   "pygments_lexer": "ipython3",
   "version": "3.5.4"
  }
 },
 "nbformat": 4,
 "nbformat_minor": 2
}
