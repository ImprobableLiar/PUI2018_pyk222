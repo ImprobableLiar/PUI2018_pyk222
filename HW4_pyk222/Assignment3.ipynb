{
 "cells": [
  {
   "cell_type": "markdown",
   "metadata": {},
   "source": [
    "Z-score: how many standard deviations away from the mean.\n",
    "\n",
    "Question: Is the new bus route improving commute?\n",
    "\n",
    "$H_0$: the commute time is the same or longer with the new bus route as it was before\n",
    "\n",
    "$T_{new}$ >= $T_{old}$\n",
    "\n",
    "or\n",
    "$T_{new}$ - $T_{old}$ >= 0\n",
    "\n",
    "$H_1$: the commute time is shorter with the new bus route as it was before\n",
    "\n",
    "$T_{new}$ < $T_{old}$\n",
    "\n",
    "or \n",
    "\n",
    "$T_{new}$ - $T_{old}$ < 0\n",
    "\n",
    "tested at significance\n",
    "\n",
    "$\\alpha$ = 0.05\n",
    "\n",
    "the formula for z-score is\n",
    "\n",
    "z = $\\frac{µ_{pop} - µ_{sample}}{σ / \\sqrt{N}}$"
   ]
  },
  {
   "cell_type": "code",
   "execution_count": 68,
   "metadata": {},
   "outputs": [
    {
     "name": "stdout",
     "output_type": "stream",
     "text": [
      "  % Total    % Received % Xferd  Average Speed   Time    Time     Time  Current\n",
      "                                 Dload  Upload   Total   Spent    Left  Speed\n",
      "100  1179  100  1179    0     0  10825      0 --:--:-- --:--:-- --:--:-- 10916\n"
     ]
    }
   ],
   "source": [
    "!curl https://raw.githubusercontent.com/fedhere/PUI2018_fb55/master/Lab4_fb55/times.txt > times.txt\n",
    "!mv times.txt $PUIDATA"
   ]
  },
  {
   "cell_type": "code",
   "execution_count": 69,
   "metadata": {},
   "outputs": [],
   "source": [
    "data = []\n",
    "with open(\"%s/times.txt\"%os.getenv(\"PUIDATA\")) as f:\n",
    "    for line in f:\n",
    "        fields = line.split()\n",
    "        rowdata = map(float, fields)\n",
    "        data.extend(rowdata)\n",
    "\n",
    "x = sum(data)/len(data)"
   ]
  },
  {
   "cell_type": "code",
   "execution_count": 70,
   "metadata": {},
   "outputs": [
    {
     "data": {
      "text/plain": [
       "34.466161688299998"
      ]
     },
     "execution_count": 70,
     "metadata": {},
     "output_type": "execute_result"
    }
   ],
   "source": [
    "x"
   ]
  },
  {
   "cell_type": "code",
   "execution_count": 71,
   "metadata": {},
   "outputs": [],
   "source": [
    "z = ( 36 - x ) / (6 / math.sqrt(len(data)))"
   ]
  },
  {
   "cell_type": "code",
   "execution_count": 72,
   "metadata": {},
   "outputs": [
    {
     "data": {
      "text/plain": [
       "2.5563971861666701"
      ]
     },
     "execution_count": 72,
     "metadata": {},
     "output_type": "execute_result"
    }
   ],
   "source": [
    "z"
   ]
  },
  {
   "cell_type": "markdown",
   "metadata": {},
   "source": [
    "the z statistic is 2.5, which is over 2 sigmas away from $T_{old}$'s mean. 2 sigmas away is at the 95% confidence, which is what we are testing, and since it is lower than 0.05 or above 95%, we can reject the null hypothesis that the new commute time is the same or longer than with the old bus route and accept the alternative hypothesis that commute time is shorter. The critical value for 0.05 is -1.645"
   ]
  },
  {
   "cell_type": "code",
   "execution_count": 67,
   "metadata": {},
   "outputs": [
    {
     "name": "stdout",
     "output_type": "stream",
     "text": [
      "N: 100\n",
      "Sample Mean: 34.4661616883\n",
      "z score is: 2.55639718617\n"
     ]
    }
   ],
   "source": [
    "print(\"N: \" + str(len(data)) + \"\\n\" + \"Sample Mean: \" + str(x) + \"\\n\" + \"z score is: \" + str(z))"
   ]
  },
  {
   "cell_type": "code",
   "execution_count": null,
   "metadata": {},
   "outputs": [],
   "source": []
  }
 ],
 "metadata": {
  "kernelspec": {
   "display_name": "PUI2016_Python3",
   "language": "python",
   "name": "pui2016_python3"
  },
  "language_info": {
   "codemirror_mode": {
    "name": "ipython",
    "version": 3
   },
   "file_extension": ".py",
   "mimetype": "text/x-python",
   "name": "python",
   "nbconvert_exporter": "python",
   "pygments_lexer": "ipython3",
   "version": "3.5.4"
  }
 },
 "nbformat": 4,
 "nbformat_minor": 2
}
